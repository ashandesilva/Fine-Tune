{
    "cells": [
     {
      "cell_type": "markdown",
      "metadata": {},
      "source": [
       "# YOLOPose Keypoint Prediction\n",
       "This notebook demonstrates how to use a YOLOPose model to predict keypoints on an image."
      ]
     },
     {
      "cell_type": "code",
      "execution_count": null,
      "metadata": {},
      "outputs": [],
      "source": [
       "import cv2\n",
       "from ultralytics import YOLO"
      ]
     },
     {
      "cell_type": "code",
      "execution_count": null,
      "metadata": {},
      "outputs": [],
      "source": [
       "# Load the pre-trained YOLOPose model\n",
       "model = YOLO('train_v3/weights/best.pt')  # Ensure the model file is in the correct path"
      ]
     },
     {
      "cell_type": "code",
      "execution_count": null,
      "metadata": {},
      "outputs": [],
      "source": [
       "# Load an image\n",
       "image_path = 'yolopose_v3/predict/53367_1_13.jpg'  # Replace with your image path\n",
       "image = cv2.imread(image_path)"
      ]
     },
     {
      "cell_type": "code",
      "execution_count": null,
      "metadata": {},
      "outputs": [],
      "source": [
       "# Run prediction\n",
       "results = model(image)"
      ]
     },
     {
      "cell_type": "code",
      "execution_count": null,
      "metadata": {},
      "outputs": [],
      "source": [
       "# Extract keypoints\n",
       "for result in results:\n",
       "    keypoints = result.keypoints  # Assuming the result object has a keypoints attribute\n",
       "    print(\"Keypoints:\", keypoints)\n",
       "\n",
       "    # Draw keypoints on the image\n",
       "    for kp in keypoints:\n",
       "        x, y, v = kp  # x, y coordinates and visibility\n",
       "        if v > 0:  # If the keypoint is visible\n",
       "            cv2.circle(image, (int(x), int(y)), 3, (0, 255, 0), -1)"
      ]
     },
     {
      "cell_type": "code",
      "execution_count": null,
      "metadata": {},
      "outputs": [],
      "source": [
       "# Display the image with keypoints\n",
       "cv2.imshow('Keypoints', image)\n",
       "cv2.waitKey(0)\n",
       "cv2.destroyAllWindows()"
      ]
     }
    ],
    "metadata": {
     "kernelspec": {
      "display_name": "Python 3",
      "language": "python",
      "name": "python3"
     },
     "language_info": {
      "codemirror_mode": {
       "name": "ipython",
       "version": 3
      },
      "file_extension": ".py",
      "mimetype": "text/x-python",
      "name": "python",
      "nbconvert_exporter": "python",
      "pygments_lexer": "ipython3",
      "version": "3.8.5"
     }
    },
    "nbformat": 4,
    "nbformat_minor": 5
   }